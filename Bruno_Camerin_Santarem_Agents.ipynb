{
 "cells": [
  {
   "cell_type": "markdown",
   "metadata": {},
   "source": [
    "## Exercício Agente Porco\n",
    "\n",
    "Exercício para colocar em prática os fundamentos de agentes através de um Agente Porco, cuja função é sujar as salas ao invés de limpá-las.\n",
    "\n",
    "![porquinho](images/porquinho.jpg)"
   ]
  },
  {
   "cell_type": "markdown",
   "metadata": {},
   "source": [
    "Começe importando todas as funções dos módulos de agentes:"
   ]
  },
  {
   "cell_type": "code",
   "execution_count": 24,
   "metadata": {},
   "outputs": [],
   "source": [
    "from agents import *"
   ]
  },
  {
   "cell_type": "code",
   "execution_count": 25,
   "metadata": {},
   "outputs": [],
   "source": [
    "#tive que fazer essas importações para conseguir rodar\n",
    "\n",
    "import collections\n",
    "collections.Callable = collections.abc.Callable\n",
    "\n",
    "import collections\n",
    "collections.Iterable = collections.abc.Iterable\n",
    "\n",
    "import collections\n",
    "collections.Sequence = collections.abc.Sequence"
   ]
  },
  {
   "cell_type": "markdown",
   "metadata": {},
   "source": [
    "Agora altere a classe **TrivialVacuumEnvironment** para que o agente suje as salas limpas."
   ]
  },
  {
   "cell_type": "code",
   "execution_count": 73,
   "metadata": {},
   "outputs": [],
   "source": [
    "class TrivialVacuumEnvironment(Environment):\n",
    "\n",
    "    \"\"\"Esse ambiente tem duas localizações, A e B. Cada uma delas\n",
    "    pode estar suja (Dirty) ou limpa (Clean). O agente percebe\n",
    "    sua localização e o estado da localização. Isso serve como\n",
    "    um exemplo de como implementar um ambiente simples.\"\"\"\n",
    "\n",
    "    def __init__(self):\n",
    "        super().__init__()\n",
    "        self.status = {loc_A: random.choice(['Clean', 'Dirty']),\n",
    "                       loc_B: random.choice(['Clean', 'Dirty'])}\n",
    "\n",
    "    def thing_classes(self):\n",
    "        return [Wall, Dirt, ReflexVacuumAgent, RandomVacuumAgent,\n",
    "                TableDrivenVacuumAgent, ModelBasedVacuumAgent]\n",
    "\n",
    "    def percept(self, agent):\n",
    "        \"\"\"Retorna a localização do agente e o estado da localização (Dirty/Clean).\"\"\"\n",
    "        return (agent.location, self.status[agent.location])\n",
    "\n",
    "    def execute_action(self, agent, action):\n",
    "        \"\"\"Altera a localização do agente e/ou o estado da localização e ratreia\n",
    "        o desempenho. 10 pontos para cada sujeira adicionada; -1 para cada movimento.\"\"\"\n",
    "        if action == 'Right':\n",
    "            agent.location = loc_B\n",
    "            agent.performance -= 1\n",
    "        elif action == 'Left':\n",
    "            agent.location = loc_A\n",
    "            agent.performance -= 1\n",
    "        elif action == 'SUJAR':   \n",
    "            #mudar estado da localização\n",
    "            if self.status[agent.location] == 'Dirty':\n",
    "                agent.performance += 10\n",
    "            \n",
    "\n",
    "    def default_location(self, thing):\n",
    "        \"\"\"O agente sempre inicia na localização A.\"\"\"\n",
    "        return loc_A"
   ]
  },
  {
   "cell_type": "code",
   "execution_count": 74,
   "metadata": {},
   "outputs": [
    {
     "name": "stdout",
     "output_type": "stream",
     "text": [
      "Estado do Ambiente: {(0, 0): 'Dirty', (1, 0): 'Dirty'}.\n"
     ]
    }
   ],
   "source": [
    "# Essas são as duas localizações para o ambiente de dois estados\n",
    "loc_A, loc_B = (0, 0), (1, 0)\n",
    "\n",
    "# Inicialização do ambiente de dois estados\n",
    "ChiqueiroBruno = TrivialVacuumEnvironment()\n",
    "\n",
    "# Verificação do estado inicial do ambiente\n",
    "print(\"Estado do Ambiente: {}.\".format(ChiqueiroBruno.status))"
   ]
  },
  {
   "cell_type": "markdown",
   "metadata": {},
   "source": [
    "Crie agora o agente. Como foi visto no *notebook* **vacuum_world**, deve-se chamar a função Agent e passar o programa do agente para ela. Neste exercício crie um agente com programa de agente aleatório. Para criar um programa de agente aleatório, deve-se chamar a função RandomAgentProgram e passar uma lista das possíveis ações\n",
    "\n",
    "Esse agente escolherá aleatoriamente qualquer uma das ações 'Right', 'Left', ''SUJAR''.\n",
    "\n",
    "***Listas em Python são representadas entre colchetes com seus elementos separados por vírgula. Strings são sinalizadas com aspas ou apóstrofo***\n",
    "\n",
    "***Exemplo: listaA = ['Respirar', 'Piscar', 'Assistir']***"
   ]
  },
  {
   "cell_type": "code",
   "execution_count": 75,
   "metadata": {
    "scrolled": true
   },
   "outputs": [],
   "source": [
    "# Criar o agente aleatório\n",
    "\n",
    "BrunoPig = Agent(program=RandomAgentProgram(['Right', 'Left', 'SUJAR']))"
   ]
  },
  {
   "cell_type": "markdown",
   "metadata": {},
   "source": [
    "### Soltando nosso agente no ambiente\n",
    "\n",
    "Agora adicione esse agente ao ambiente.\n",
    "\n",
    "Para facilitar, os agentes sempre serão posicionados na primeira localização do ambiente."
   ]
  },
  {
   "cell_type": "code",
   "execution_count": 76,
   "metadata": {},
   "outputs": [
    {
     "name": "stdout",
     "output_type": "stream",
     "text": [
      "Agente Porquinho está localizado em (0, 0).\n"
     ]
    }
   ],
   "source": [
    "# Adicionar esse agente ao ambiente\n",
    "ChiqueiroBruno.add_thing(BrunoPig)\n",
    "\n",
    "print(\"Agente Porquinho está localizado em {}.\".format(BrunoPig.location))"
   ]
  },
  {
   "cell_type": "markdown",
   "metadata": {},
   "source": [
    "Vamos executar nosso ambiente e ver nosso porquinho em ação."
   ]
  },
  {
   "cell_type": "code",
   "execution_count": 80,
   "metadata": {},
   "outputs": [
    {
     "name": "stdout",
     "output_type": "stream",
     "text": [
      "Estado do Ambiente: {(0, 0): 'Dirty', (1, 0): 'Dirty'}.\n",
      "Agente Porquinho está localizado em (1, 0).\n"
     ]
    }
   ],
   "source": [
    "# Executando o ambiente\n",
    "ChiqueiroBruno.step()\n",
    "\n",
    "# Verificando o estado atual do ambiente\n",
    "print(\"Estado do Ambiente: {}.\".format(ChiqueiroBruno.status))\n",
    "\n",
    "print(\"Agente Porquinho está localizado em {}.\".format(BrunoPig.location))"
   ]
  },
  {
   "cell_type": "markdown",
   "metadata": {},
   "source": [
    "## Está tudo sujo, e agora?\n",
    "\n",
    "Depois que o nosso agente porco suja todas as salas ele fica desocupado. Vamos mantê-lo ocupado adicionando um 'rival' que faz exatamente o oposto: limpa.\n",
    "\n",
    "Para isso é necessário adicionar a ação de limpeza nas ações da classe **TrivialVacuumEnvironment**."
   ]
  },
  {
   "cell_type": "code",
   "execution_count": 81,
   "metadata": {},
   "outputs": [],
   "source": [
    "class TrivialVacuumEnvironment(Environment):\n",
    "\n",
    "    def __init__(self):\n",
    "        super().__init__()\n",
    "        self.status = {loc_A: random.choice(['Clean', 'Dirty']),\n",
    "                       loc_B: random.choice(['Clean', 'Dirty'])}\n",
    "\n",
    "    def thing_classes(self):\n",
    "        return [Wall, Dirt, ReflexVacuumAgent, RandomVacuumAgent,\n",
    "                TableDrivenVacuumAgent, ModelBasedVacuumAgent]\n",
    "\n",
    "    def percept(self, agent):\n",
    "        return (agent.location, self.status[agent.location])\n",
    "\n",
    "    def execute_action(self, agent, action):\n",
    "        if action == 'Right':\n",
    "            agent.location = loc_B\n",
    "            agent.performance -= 1\n",
    "        elif action == 'Left':\n",
    "            agent.location = loc_A\n",
    "            agent.performance -= 1\n",
    "        elif action == 'Dirty':     #definir ação de sujar\n",
    "            self.status[agent.location] = ''     #mudar estado da localização\n",
    "        elif action == 'Clean':    #definir ação de limpar\n",
    "            self.status[agent.location] = ''     #mudar estado da localização\n",
    "            \n",
    "\n",
    "    def default_location(self, thing):\n",
    "        return loc_A"
   ]
  },
  {
   "cell_type": "markdown",
   "metadata": {},
   "source": [
    "### Recriando o ambiente\n",
    "\n",
    "Como a classe foi alterada, é necessário recriar o ambiente.\n",
    "\n",
    "Note que como ainda se tratam de duas localizações, **não** é necessário declarar loc_A nem loc_B novamente."
   ]
  },
  {
   "cell_type": "code",
   "execution_count": 82,
   "metadata": {},
   "outputs": [
    {
     "name": "stdout",
     "output_type": "stream",
     "text": [
      "Estado do Ambiente: {(0, 0): 'Dirty', (1, 0): 'Clean'}.\n"
     ]
    }
   ],
   "source": [
    "# Inicialização do ambiente de dois estados\n",
    "ChiqueiroBruno = TrivialVacuumEnvironment()\n",
    "\n",
    "print(\"Estado do Ambiente: {}.\".format(ChiqueiroBruno.status))"
   ]
  },
  {
   "cell_type": "markdown",
   "metadata": {},
   "source": [
    "### Criação do agente de limpeza\n",
    "\n",
    "Crie o agente responsável por limpar a sujeira do outro agente.\n",
    "\n",
    "***Lembre-se de incluir uma ação de limpar e de não incluir a ação de sujar***\n",
    "\n",
    "***Como não houve alteração no comportamento de nosso agente porquinho não há a necessidade de criá-lo novamente****"
   ]
  },
  {
   "cell_type": "code",
   "execution_count": 83,
   "metadata": {},
   "outputs": [],
   "source": [
    "# Criar o agente de limpeza\n",
    "\n",
    "VacBruno = Agent(program=RandomAgentProgram(['Right', 'Left', 'Clean']))"
   ]
  },
  {
   "cell_type": "markdown",
   "metadata": {},
   "source": [
    "### Colocando o agente de limpeza no ambiente\n",
    "\n",
    "Adicione seu agente de limpeza ao ambiente.\n",
    "\n",
    "***Lembre-se de adicionar também o agente porco a esse novo ambiente, já que o ambiente anterior deixou de existir***"
   ]
  },
  {
   "cell_type": "code",
   "execution_count": 84,
   "metadata": {},
   "outputs": [
    {
     "name": "stdout",
     "output_type": "stream",
     "text": [
      "O Agente porco está localizado em (0, 0).\n",
      "O Agente de Limpeza está localizado em (0, 0).\n"
     ]
    }
   ],
   "source": [
    "# Adicionar esses agentes ao ambiente\n",
    "ChiqueiroBruno.add_thing(BrunoPig)\n",
    "ChiqueiroBruno.add_thing(VacBruno)\n",
    "\n",
    "print(\"O Agente porco está localizado em {}.\".format(BrunoPig.location))\n",
    "print(\"O Agente de Limpeza está localizado em {}.\".format(VacBruno.location))"
   ]
  },
  {
   "cell_type": "markdown",
   "metadata": {},
   "source": [
    "### Ao trabalho!\n",
    "\n",
    "Agora vamos para a parte da execução!"
   ]
  },
  {
   "cell_type": "code",
   "execution_count": 85,
   "metadata": {},
   "outputs": [
    {
     "name": "stdout",
     "output_type": "stream",
     "text": [
      "Estado do Ambiente: {(0, 0): '', (1, 0): 'Clean'}.\n",
      "Agente Porquinho está localizado em (1, 0).\n",
      "Agente de Limpeza está localizado em (0, 0).\n",
      "\n",
      "\n",
      "Estado do Ambiente: {(0, 0): '', (1, 0): 'Clean'}.\n",
      "Agente Porquinho está localizado em (0, 0).\n",
      "Agente de Limpeza está localizado em (0, 0).\n",
      "\n",
      "\n",
      "Estado do Ambiente: {(0, 0): '', (1, 0): 'Clean'}.\n",
      "Agente Porquinho está localizado em (0, 0).\n",
      "Agente de Limpeza está localizado em (0, 0).\n",
      "\n",
      "\n",
      "Estado do Ambiente: {(0, 0): '', (1, 0): 'Clean'}.\n",
      "Agente Porquinho está localizado em (0, 0).\n",
      "Agente de Limpeza está localizado em (1, 0).\n",
      "\n",
      "\n",
      "Estado do Ambiente: {(0, 0): '', (1, 0): 'Clean'}.\n",
      "Agente Porquinho está localizado em (0, 0).\n",
      "Agente de Limpeza está localizado em (1, 0).\n",
      "\n",
      "\n",
      "Estado do Ambiente: {(0, 0): '', (1, 0): ''}.\n",
      "Agente Porquinho está localizado em (0, 0).\n",
      "Agente de Limpeza está localizado em (1, 0).\n",
      "\n",
      "\n",
      "Estado do Ambiente: {(0, 0): '', (1, 0): ''}.\n",
      "Agente Porquinho está localizado em (0, 0).\n",
      "Agente de Limpeza está localizado em (1, 0).\n",
      "\n",
      "\n",
      "Estado do Ambiente: {(0, 0): '', (1, 0): ''}.\n",
      "Agente Porquinho está localizado em (1, 0).\n",
      "Agente de Limpeza está localizado em (0, 0).\n",
      "\n",
      "\n",
      "Estado do Ambiente: {(0, 0): '', (1, 0): ''}.\n",
      "Agente Porquinho está localizado em (1, 0).\n",
      "Agente de Limpeza está localizado em (0, 0).\n",
      "\n",
      "\n",
      "Estado do Ambiente: {(0, 0): '', (1, 0): ''}.\n",
      "Agente Porquinho está localizado em (0, 0).\n",
      "Agente de Limpeza está localizado em (0, 0).\n",
      "\n",
      "\n",
      "Estado do Ambiente: {(0, 0): '', (1, 0): ''}.\n",
      "Agente Porquinho está localizado em (1, 0).\n",
      "Agente de Limpeza está localizado em (0, 0).\n",
      "\n",
      "\n",
      "Estado do Ambiente: {(0, 0): '', (1, 0): ''}.\n",
      "Agente Porquinho está localizado em (0, 0).\n",
      "Agente de Limpeza está localizado em (0, 0).\n",
      "\n",
      "\n",
      "Estado do Ambiente: {(0, 0): '', (1, 0): ''}.\n",
      "Agente Porquinho está localizado em (0, 0).\n",
      "Agente de Limpeza está localizado em (0, 0).\n",
      "\n",
      "\n",
      "Estado do Ambiente: {(0, 0): '', (1, 0): ''}.\n",
      "Agente Porquinho está localizado em (0, 0).\n",
      "Agente de Limpeza está localizado em (0, 0).\n",
      "\n",
      "\n",
      "Estado do Ambiente: {(0, 0): '', (1, 0): ''}.\n",
      "Agente Porquinho está localizado em (1, 0).\n",
      "Agente de Limpeza está localizado em (0, 0).\n",
      "\n",
      "\n",
      "Estado do Ambiente: {(0, 0): '', (1, 0): ''}.\n",
      "Agente Porquinho está localizado em (1, 0).\n",
      "Agente de Limpeza está localizado em (0, 0).\n",
      "\n",
      "\n",
      "Estado do Ambiente: {(0, 0): '', (1, 0): ''}.\n",
      "Agente Porquinho está localizado em (0, 0).\n",
      "Agente de Limpeza está localizado em (1, 0).\n",
      "\n",
      "\n",
      "Estado do Ambiente: {(0, 0): '', (1, 0): ''}.\n",
      "Agente Porquinho está localizado em (0, 0).\n",
      "Agente de Limpeza está localizado em (0, 0).\n",
      "\n",
      "\n",
      "Estado do Ambiente: {(0, 0): '', (1, 0): ''}.\n",
      "Agente Porquinho está localizado em (0, 0).\n",
      "Agente de Limpeza está localizado em (0, 0).\n",
      "\n",
      "\n",
      "Estado do Ambiente: {(0, 0): '', (1, 0): ''}.\n",
      "Agente Porquinho está localizado em (1, 0).\n",
      "Agente de Limpeza está localizado em (0, 0).\n",
      "\n",
      "\n"
     ]
    }
   ],
   "source": [
    "import time    #utilizado dentro do laço\n",
    "\n",
    "for i in range(20):\n",
    "    ChiqueiroBruno.step()\n",
    "\n",
    "    print(\"Estado do Ambiente: {}.\".format(ChiqueiroBruno.status))\n",
    "\n",
    "    print(\"Agente Porquinho está localizado em {}.\".format(BrunoPig.location))\n",
    "    print(\"Agente de Limpeza está localizado em {}.\\n\\n\".format(VacBruno.location))\n",
    "    time.sleep(1)    # espera por 1 segundo"
   ]
  },
  {
   "cell_type": "markdown",
   "metadata": {},
   "source": [
    "## Agentes claustrofóbicos\n",
    "\n",
    "Duas salas é um espaço muito pequeno para nossos agentes! Que tal colocarmos mais salas?\n",
    "\n",
    "Para isso é necessário alterar novamente a classe **TrivialVacuumEnvironment**.\n",
    "\n",
    "Abaixo existe um novo atributo, **loc_list**, que auxiliará o caminhar dos agentes. Esse atributo foi adicionado para ser utilizado na verificação das \"bordas\" do ambiente, facilitando para o agente descobrir se está ou não no limite do ambiente."
   ]
  },
  {
   "cell_type": "code",
   "execution_count": 93,
   "metadata": {},
   "outputs": [],
   "source": [
    "class TrivialVacuumEnvironment(Environment):\n",
    "\n",
    "    def __init__(self):\n",
    "        super().__init__()\n",
    "        self.status = {loc_A: random.choice(['Clean', 'Dirty']),\n",
    "                       loc_X: random.choice(['Clean', 'Dirty'])\n",
    "                      }\n",
    "        self.loc_list = [loc_A, loc_X]  #lista criada para facilitar movimento\n",
    "\n",
    "    def thing_classes(self):\n",
    "        return [Wall, Dirt, ReflexVacuumAgent, RandomVacuumAgent,\n",
    "                TableDrivenVacuumAgent, ModelBasedVacuumAgent]\n",
    "\n",
    "    def percept(self, agent):\n",
    "        return (agent.location, self.status[agent.location])\n",
    "\n",
    "    def execute_action(self, agent, action):\n",
    "        if action == 'Right':\n",
    "            if agent.location != self.loc_list[-1]:    # verificando se não está na última localização da direita\n",
    "                agent.location = self.loc_list[self.loc_list.index(agent.location)+1]\n",
    "        elif action == 'Left':\n",
    "            if agent.location != self.loc_list[0]:    # verificando se não está na última localização da esquerda\n",
    "                agent.location = self.loc_list[self.loc_list.index(agent.location)-1]\n",
    "        elif action == 'Dirty':    #mudar estado da localização\n",
    "            self.status[agent.location] = ''\n",
    "        elif action == 'Clean':    #mudar estado da localização\n",
    "            self.status[agent.location] = ''\n",
    "            \n",
    "\n",
    "    def default_location(self, thing):\n",
    "        return loc_A"
   ]
  },
  {
   "cell_type": "markdown",
   "metadata": {},
   "source": [
    "### Criação de novas localidades\n",
    "\n",
    "Para que o ambiente seja maior é necessária a criação de mais localidades"
   ]
  },
  {
   "cell_type": "code",
   "execution_count": 97,
   "metadata": {},
   "outputs": [
    {
     "name": "stdout",
     "output_type": "stream",
     "text": [
      "Estado do Ambiente: {(0, 0): 'Dirty', (1, 0): 'Dirty'}.\n"
     ]
    }
   ],
   "source": [
    "loc_A, loc_X = (0, 0), (1, 0)\n",
    "ChiqueiroBruno = TrivialVacuumEnvironment()\n",
    "\n",
    "print(\"Estado do Ambiente: {}.\".format(ChiqueiroBruno.status))"
   ]
  },
  {
   "cell_type": "markdown",
   "metadata": {},
   "source": [
    "### Liberar os agentes\n",
    "\n",
    "Vamos colocar os agentes no novo ambiente para que eles possam realizar seus trabalhos."
   ]
  },
  {
   "cell_type": "code",
   "execution_count": 98,
   "metadata": {},
   "outputs": [
    {
     "name": "stdout",
     "output_type": "stream",
     "text": [
      "O Agente porco está localizado em (0, 0).\n",
      "O Agente porco está localizado em (0, 0).\n"
     ]
    }
   ],
   "source": [
    "ChiqueiroBruno.add_thing(BrunoPig)\n",
    "ChiqueiroBruno.add_thing(VacBruno)\n",
    "\n",
    "print(\"O Agente porco está localizado em {}.\".format(BrunoPig.location))\n",
    "print(\"O Agente porco está localizado em {}.\".format(VacBruno.location))"
   ]
  },
  {
   "cell_type": "markdown",
   "metadata": {},
   "source": [
    "### Execução\n",
    "\n",
    "Vamos deixá-los em paz para que possam fazer seus trabalhos <s>pelo resto de suas vidas</s> por 20 passos de execução."
   ]
  },
  {
   "cell_type": "code",
   "execution_count": 100,
   "metadata": {},
   "outputs": [
    {
     "name": "stdout",
     "output_type": "stream",
     "text": [
      "Estado do Ambiente: {(0, 0): '', (1, 0): ''}.\n",
      "Agente Porquinho está localizado em (0, 0).\n",
      "Agente de Limpeza está localizado em (1, 0).\n",
      "\n",
      "\n",
      "Estado do Ambiente: {(0, 0): '', (1, 0): ''}.\n",
      "Agente Porquinho está localizado em (1, 0).\n",
      "Agente de Limpeza está localizado em (1, 0).\n",
      "\n",
      "\n",
      "Estado do Ambiente: {(0, 0): '', (1, 0): ''}.\n",
      "Agente Porquinho está localizado em (1, 0).\n",
      "Agente de Limpeza está localizado em (1, 0).\n",
      "\n",
      "\n",
      "Estado do Ambiente: {(0, 0): '', (1, 0): ''}.\n",
      "Agente Porquinho está localizado em (1, 0).\n",
      "Agente de Limpeza está localizado em (1, 0).\n",
      "\n",
      "\n",
      "Estado do Ambiente: {(0, 0): '', (1, 0): ''}.\n",
      "Agente Porquinho está localizado em (1, 0).\n",
      "Agente de Limpeza está localizado em (1, 0).\n",
      "\n",
      "\n",
      "Estado do Ambiente: {(0, 0): '', (1, 0): ''}.\n",
      "Agente Porquinho está localizado em (0, 0).\n",
      "Agente de Limpeza está localizado em (0, 0).\n",
      "\n",
      "\n",
      "Estado do Ambiente: {(0, 0): '', (1, 0): ''}.\n",
      "Agente Porquinho está localizado em (1, 0).\n",
      "Agente de Limpeza está localizado em (0, 0).\n",
      "\n",
      "\n",
      "Estado do Ambiente: {(0, 0): '', (1, 0): ''}.\n",
      "Agente Porquinho está localizado em (1, 0).\n",
      "Agente de Limpeza está localizado em (1, 0).\n",
      "\n",
      "\n",
      "Estado do Ambiente: {(0, 0): '', (1, 0): ''}.\n",
      "Agente Porquinho está localizado em (1, 0).\n",
      "Agente de Limpeza está localizado em (0, 0).\n",
      "\n",
      "\n",
      "Estado do Ambiente: {(0, 0): '', (1, 0): ''}.\n",
      "Agente Porquinho está localizado em (0, 0).\n",
      "Agente de Limpeza está localizado em (1, 0).\n",
      "\n",
      "\n",
      "Estado do Ambiente: {(0, 0): '', (1, 0): ''}.\n",
      "Agente Porquinho está localizado em (1, 0).\n",
      "Agente de Limpeza está localizado em (1, 0).\n",
      "\n",
      "\n",
      "Estado do Ambiente: {(0, 0): '', (1, 0): ''}.\n",
      "Agente Porquinho está localizado em (0, 0).\n",
      "Agente de Limpeza está localizado em (1, 0).\n",
      "\n",
      "\n",
      "Estado do Ambiente: {(0, 0): '', (1, 0): ''}.\n",
      "Agente Porquinho está localizado em (0, 0).\n",
      "Agente de Limpeza está localizado em (1, 0).\n",
      "\n",
      "\n",
      "Estado do Ambiente: {(0, 0): '', (1, 0): ''}.\n",
      "Agente Porquinho está localizado em (1, 0).\n",
      "Agente de Limpeza está localizado em (0, 0).\n",
      "\n",
      "\n",
      "Estado do Ambiente: {(0, 0): '', (1, 0): ''}.\n",
      "Agente Porquinho está localizado em (1, 0).\n",
      "Agente de Limpeza está localizado em (0, 0).\n",
      "\n",
      "\n",
      "Estado do Ambiente: {(0, 0): '', (1, 0): ''}.\n",
      "Agente Porquinho está localizado em (0, 0).\n",
      "Agente de Limpeza está localizado em (0, 0).\n",
      "\n",
      "\n",
      "Estado do Ambiente: {(0, 0): '', (1, 0): ''}.\n",
      "Agente Porquinho está localizado em (1, 0).\n",
      "Agente de Limpeza está localizado em (0, 0).\n",
      "\n",
      "\n",
      "Estado do Ambiente: {(0, 0): '', (1, 0): ''}.\n",
      "Agente Porquinho está localizado em (1, 0).\n",
      "Agente de Limpeza está localizado em (0, 0).\n",
      "\n",
      "\n",
      "Estado do Ambiente: {(0, 0): '', (1, 0): ''}.\n",
      "Agente Porquinho está localizado em (1, 0).\n",
      "Agente de Limpeza está localizado em (0, 0).\n",
      "\n",
      "\n",
      "Estado do Ambiente: {(0, 0): '', (1, 0): ''}.\n",
      "Agente Porquinho está localizado em (0, 0).\n",
      "Agente de Limpeza está localizado em (0, 0).\n",
      "\n",
      "\n"
     ]
    }
   ],
   "source": [
    "import time  #utilizado dentro do laço\n",
    "\n",
    "for i in range(20):\n",
    "    ChiqueiroBruno.step()\n",
    "\n",
    "    print(\"Estado do Ambiente: {}.\".format(ChiqueiroBruno.status))\n",
    "\n",
    "    print(\"Agente Porquinho está localizado em {}.\".format(BrunoPig.location))\n",
    "    print(\"Agente de Limpeza está localizado em {}.\\n\\n\".format(VacBruno.location))\n",
    "    time.sleep(1)"
   ]
  },
  {
   "cell_type": "code",
   "execution_count": null,
   "metadata": {},
   "outputs": [],
   "source": []
  },
  {
   "cell_type": "code",
   "execution_count": null,
   "metadata": {},
   "outputs": [],
   "source": []
  },
  {
   "cell_type": "code",
   "execution_count": null,
   "metadata": {},
   "outputs": [],
   "source": []
  }
 ],
 "metadata": {
  "kernelspec": {
   "display_name": "Python 3 (ipykernel)",
   "language": "python",
   "name": "python3"
  },
  "language_info": {
   "codemirror_mode": {
    "name": "ipython",
    "version": 3
   },
   "file_extension": ".py",
   "mimetype": "text/x-python",
   "name": "python",
   "nbconvert_exporter": "python",
   "pygments_lexer": "ipython3",
   "version": "3.10.4"
  }
 },
 "nbformat": 4,
 "nbformat_minor": 2
}
