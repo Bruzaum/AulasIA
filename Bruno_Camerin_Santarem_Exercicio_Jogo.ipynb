{
 "cells": [
  {
   "cell_type": "markdown",
   "metadata": {},
   "source": [
    "## HANDS ON!"
   ]
  },
  {
   "cell_type": "markdown",
   "metadata": {},
   "source": [
    "Altere a classe Fig52Game abaixo (de preferência altere o nome também) para que ela possa ser utilizada na situação abaixo:\n",
    "\n",
    "<img src=\"images/exercicio-jogos.png\" width=\"75%\">\n",
    "\n",
    "Comece importando as funções do módulo games.py:"
   ]
  },
  {
   "cell_type": "code",
   "execution_count": 1,
   "metadata": {},
   "outputs": [],
   "source": [
    "from games import *"
   ]
  },
  {
   "cell_type": "markdown",
   "metadata": {},
   "source": [
    "Agora altere a classe abaixo:"
   ]
  },
  {
   "cell_type": "code",
   "execution_count": 2,
   "metadata": {},
   "outputs": [],
   "source": [
    "class ExampleGame(Game):\n",
    "    \"\"\"The game represented in [Figure 5.2]. Serves as a simple test case.\"\"\"\n",
    "\n",
    "    succs = dict(A=dict(a1='B', a2='Q'),\n",
    "                 B=dict(b1='C', b2='J'),\n",
    "                 C=dict(c1='D', c2='G'),\n",
    "                 D=dict(d1='E', d2='F'),\n",
    "                 G=dict(g1='H', g2='I'),\n",
    "                 J=dict(j1='K', j2='N'),\n",
    "                 K=dict(k1='L', k2='M'),\n",
    "                 N=dict(n1='O', n2='P'),\n",
    "                 Q=dict(q1='R', q2='Z'),\n",
    "                 R=dict(c1='S', c2='V'),\n",
    "                 S=dict(d1='T', d2='U'),\n",
    "                 V=dict(d1='W', d2='X'),\n",
    "                 Z=dict(d1='Z1', d2='Z4'),\n",
    "                 Z1=dict(d11='Z2', d12='Z3'),\n",
    "                 Z4=dict(d41='Z5', d42='Z6'))\n",
    "    utils = dict(E=10,F=11,H=9,I=12,L=14,M=15,O=13,P=14,T=13,U=2,W=4,X=1,Z2=3,Z3=22,Z5=24,Z6=25)\n",
    "    initial = 'A'\n",
    "\n",
    "    def actions(self, state):\n",
    "        return list(self.succs.get(state, {}).keys())\n",
    "\n",
    "    def result(self, state, move):\n",
    "        return self.succs[state][move]\n",
    "\n",
    "    def utility(self, state, player):\n",
    "        if player == 'MAX':\n",
    "            return self.utils[state]\n",
    "        else:\n",
    "            return -self.utils[state]\n",
    "\n",
    "    def terminal_test(self, state):\n",
    "        return state in ('E','F','H','I','L','M','O','P','T','U','W','X','Z2','Z3','Z5','Z6')\n",
    "\n",
    "    def to_move(self, state):\n",
    "        return 'MIN' if state in ('B','Q','D','G','K','N','S','V','Z1','Z4') else 'MAX'\n"
   ]
  },
  {
   "cell_type": "markdown",
   "metadata": {},
   "source": [
    "Instancie um novo objeto dessa nova classe"
   ]
  },
  {
   "cell_type": "code",
   "execution_count": 4,
   "metadata": {},
   "outputs": [],
   "source": [
    "objeto = ExampleGame()"
   ]
  },
  {
   "cell_type": "markdown",
   "metadata": {},
   "source": [
    "Agora faça um laço para que seja exibido o Estado Atual e o Caminho Escolhido até que não exista mais caminho a escolher(usar minimax)"
   ]
  },
  {
   "cell_type": "markdown",
   "metadata": {},
   "source": [
    "Erro esperado:\n",
    "\n",
    "<img src=\"images/erro-esperado.png\" width=\"75%\">"
   ]
  },
  {
   "cell_type": "code",
   "execution_count": 7,
   "metadata": {
    "scrolled": false
   },
   "outputs": [
    {
     "name": "stdout",
     "output_type": "stream",
     "text": [
      "Estado Atual: A \tCaminho tomado: a1\n",
      "Estado Atual: b1 \tCaminho tomado: b1\n",
      "Estado Atual: c1 \tCaminho tomado: c1\n",
      "Estado Atual: d1 \tCaminho tomado: d1\n"
     ]
    },
    {
     "ename": "ValueError",
     "evalue": "max() arg is an empty sequence",
     "output_type": "error",
     "traceback": [
      "\u001b[1;31m---------------------------------------------------------------------------\u001b[0m",
      "\u001b[1;31mValueError\u001b[0m                                Traceback (most recent call last)",
      "\u001b[1;32m~\\AppData\\Local\\Temp/ipykernel_2580/2367815640.py\u001b[0m in \u001b[0;36m<module>\u001b[1;34m\u001b[0m\n\u001b[0;32m      5\u001b[0m \u001b[1;32mwhile\u001b[0m \u001b[0mcaminhoTomado\u001b[0m \u001b[1;33m!=\u001b[0m \u001b[1;32mNone\u001b[0m\u001b[1;33m:\u001b[0m\u001b[1;33m\u001b[0m\u001b[1;33m\u001b[0m\u001b[0m\n\u001b[0;32m      6\u001b[0m     \u001b[0mestadoAtual\u001b[0m \u001b[1;33m=\u001b[0m \u001b[0mobjeto\u001b[0m\u001b[1;33m.\u001b[0m\u001b[0mresult\u001b[0m\u001b[1;33m(\u001b[0m\u001b[0mestadoAtual\u001b[0m\u001b[1;33m,\u001b[0m\u001b[0mcaminhoTomado\u001b[0m\u001b[1;33m)\u001b[0m\u001b[1;33m\u001b[0m\u001b[1;33m\u001b[0m\u001b[0m\n\u001b[1;32m----> 7\u001b[1;33m     \u001b[0mcaminhoTomado\u001b[0m \u001b[1;33m=\u001b[0m \u001b[0mminimax_decision\u001b[0m\u001b[1;33m(\u001b[0m\u001b[0mestadoAtual\u001b[0m\u001b[1;33m,\u001b[0m \u001b[0mobjeto\u001b[0m\u001b[1;33m)\u001b[0m\u001b[1;33m\u001b[0m\u001b[1;33m\u001b[0m\u001b[0m\n\u001b[0m\u001b[0;32m      8\u001b[0m     \u001b[0mprint\u001b[0m\u001b[1;33m(\u001b[0m\u001b[1;34m'Estado Atual:'\u001b[0m\u001b[1;33m,\u001b[0m\u001b[0mcaminhoTomado\u001b[0m\u001b[1;33m,\u001b[0m\u001b[1;34m'\\tCaminho tomado:'\u001b[0m\u001b[1;33m,\u001b[0m\u001b[0mcaminhoTomado\u001b[0m\u001b[1;33m)\u001b[0m\u001b[1;33m\u001b[0m\u001b[1;33m\u001b[0m\u001b[0m\n",
      "\u001b[1;32m~\\Documents\\IA\\games.py\u001b[0m in \u001b[0;36mminimax_decision\u001b[1;34m(state, game)\u001b[0m\n\u001b[0;32m     38\u001b[0m \u001b[1;33m\u001b[0m\u001b[0m\n\u001b[0;32m     39\u001b[0m     \u001b[1;31m# Body of minimax_decision:\u001b[0m\u001b[1;33m\u001b[0m\u001b[1;33m\u001b[0m\u001b[0m\n\u001b[1;32m---> 40\u001b[1;33m     return argmax(game.actions(state),\n\u001b[0m\u001b[0;32m     41\u001b[0m                   key=lambda a: min_value(game.result(state, a)))\n\u001b[0;32m     42\u001b[0m \u001b[1;33m\u001b[0m\u001b[0m\n",
      "\u001b[1;31mValueError\u001b[0m: max() arg is an empty sequence"
     ]
    }
   ],
   "source": [
    "estadoAtual = 'A'\n",
    "caminhoTomado = minimax_decision(estadoAtual, objeto)\n",
    "print('Estado Atual:',estadoAtual,'\\tCaminho tomado:',caminhoTomado)\n",
    "\n",
    "while caminhoTomado != None:\n",
    "    estadoAtual = objeto.result(estadoAtual,caminhoTomado)\n",
    "    caminhoTomado = minimax_decision(estadoAtual, objeto)\n",
    "    print('Estado Atual:',caminhoTomado,'\\tCaminho tomado:',caminhoTomado)"
   ]
  },
  {
   "cell_type": "markdown",
   "metadata": {},
   "source": [
    "Usar alphabeta no código abaixo:"
   ]
  },
  {
   "cell_type": "code",
   "execution_count": 8,
   "metadata": {
    "scrolled": false
   },
   "outputs": [
    {
     "name": "stdout",
     "output_type": "stream",
     "text": [
      "Estado Atual: A \tCaminho tomado: a1\n",
      "Estado Atual: B \tCaminho tomado: b1\n",
      "Estado Atual: C \tCaminho tomado: c1\n",
      "Estado Atual: D \tCaminho tomado: d1\n",
      "Estado Atual: E \tCaminho tomado: None\n"
     ]
    }
   ],
   "source": [
    "estadoAtual = 'A'\n",
    "caminhoTomado = alphabeta_search(estadoAtual, objeto)\n",
    "print('Estado Atual:',estadoAtual,'\\tCaminho tomado:',caminhoTomado)\n",
    "\n",
    "while caminhoTomado != None:\n",
    "    estadoAtual = objeto.result(estadoAtual,caminhoTomado)\n",
    "    caminhoTomado = alphabeta_search(estadoAtual, objeto)\n",
    "    print('Estado Atual:',estadoAtual,'\\tCaminho tomado:',caminhoTomado)"
   ]
  },
  {
   "cell_type": "code",
   "execution_count": null,
   "metadata": {},
   "outputs": [],
   "source": []
  }
 ],
 "metadata": {
  "kernelspec": {
   "display_name": "Python 3 (ipykernel)",
   "language": "python",
   "name": "python3"
  },
  "language_info": {
   "codemirror_mode": {
    "name": "ipython",
    "version": 3
   },
   "file_extension": ".py",
   "mimetype": "text/x-python",
   "name": "python",
   "nbconvert_exporter": "python",
   "pygments_lexer": "ipython3",
   "version": "3.9.7"
  }
 },
 "nbformat": 4,
 "nbformat_minor": 1
}
